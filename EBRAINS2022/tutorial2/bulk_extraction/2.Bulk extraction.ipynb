{
 "cells": [
  {
   "cell_type": "markdown",
   "id": "6f4d81a8",
   "metadata": {},
   "source": [
    "# Extracting and compiling electrical features for a set of cells"
   ]
  },
  {
   "cell_type": "markdown",
   "id": "cf78d528",
   "metadata": {},
   "source": [
    "In this notebook, we will demonstrate how to read recordings for many cells and how to combine the efeatures coming from the different cells to create meaningful targets for the optimisation."
   ]
  },
  {
   "cell_type": "code",
   "execution_count": null,
   "id": "339628b9",
   "metadata": {},
   "outputs": [],
   "source": [
    "import pathlib\n",
    "from pprint import pprint\n",
    "import matplotlib.pyplot as plt\n",
    "import glob\n",
    "\n",
    "import bluepyefe\n",
    "import bluepyefe.extract"
   ]
  },
  {
   "cell_type": "code",
   "execution_count": 2,
   "id": "eba40de9",
   "metadata": {},
   "outputs": [],
   "source": [
    "# Create files metadata.Of the form:\n",
    "# {\n",
    "#     cell_id: {\n",
    "#         protocol_name: [{file_metadata1}, {file_metadata1}]\n",
    "#     }\n",
    "# }\n",
    "\n",
    "files_metadata = {}"
   ]
  },
  {
   "cell_type": "code",
   "execution_count": null,
   "id": "a126d3e2",
   "metadata": {},
   "outputs": [],
   "source": [
    "# Create targets. Of the form:\n",
    "# [{\n",
    "#     \"efeature\": \"AP_amplitude\",\n",
    "#     \"protocol\": \"IDRest\",\n",
    "#     \"amplitude\": 150.,\n",
    "#     \"tolerance\": 10.,\n",
    "#     \"efel_settings\": {\n",
    "#         'stim_start': 200.,\n",
    "#         'stim_end': 500.,\n",
    "#         'Threshold': -10.\n",
    "#     }\n",
    "# }]\n",
    "\n",
    "targets = []"
   ]
  },
  {
   "cell_type": "code",
   "execution_count": 3,
   "id": "df051dbd",
   "metadata": {},
   "outputs": [],
   "source": [
    "# Define the protocol used to compute the rheobase:\n",
    "protocols_rheobase = []"
   ]
  },
  {
   "cell_type": "code",
   "execution_count": null,
   "id": "ff4f3cf6",
   "metadata": {},
   "outputs": [],
   "source": [
    "# Define the eFEL settings:\n",
    "from bluepyefe.tools import DEFAULT_EFEL_SETTINGS\n",
    "efel_settings = DEFAULT_EFEL_SETTINGS.copy()"
   ]
  },
  {
   "cell_type": "code",
   "execution_count": null,
   "id": "040882d3",
   "metadata": {},
   "outputs": [],
   "source": [
    "# Read all the ephys data and extract the efeatures\n",
    "cells, protocols = _extract_with_targets(\n",
    "    files_metadata,\n",
    "    targets,\n",
    "    protocols_rheobase,\n",
    "    recording_reader=None,\n",
    "    map_function=map,\n",
    "    low_memory_mode=False,\n",
    "    efel_settings=efel_settings,\n",
    "    rheobase_strategy=\"flush\",\n",
    ")\n",
    "\n",
    "# Compile the results and write the output files\n",
    "efeatures, protocol_definitions, current = create_feature_protocol_files(\n",
    "    cells,\n",
    "    protocols,\n",
    "    output_directory=\"./example\",\n",
    "    threshold_nvalue_save=1,\n",
    "    write_files=True,\n",
    ")\n",
    "\n",
    "plot_all_recordings_efeatures(\n",
    "    cells, protocols, output_dir=\"./example\"\n",
    ")"
   ]
  },
  {
   "cell_type": "code",
   "execution_count": null,
   "id": "46e1affe",
   "metadata": {},
   "outputs": [],
   "source": [
    "# Data exploration + check the results (mean and std)"
   ]
  },
  {
   "cell_type": "code",
   "execution_count": 1,
   "id": "6255ecc9",
   "metadata": {},
   "outputs": [],
   "source": [
    "# Rheobasde and normalization:"
   ]
  }
 ],
 "metadata": {
  "kernelspec": {
   "display_name": "Python 3 (ipykernel)",
   "language": "python",
   "name": "python3"
  },
  "language_info": {
   "codemirror_mode": {
    "name": "ipython",
    "version": 3
   },
   "file_extension": ".py",
   "mimetype": "text/x-python",
   "name": "python",
   "nbconvert_exporter": "python",
   "pygments_lexer": "ipython3",
   "version": "3.9.7"
  }
 },
 "nbformat": 4,
 "nbformat_minor": 5
}
