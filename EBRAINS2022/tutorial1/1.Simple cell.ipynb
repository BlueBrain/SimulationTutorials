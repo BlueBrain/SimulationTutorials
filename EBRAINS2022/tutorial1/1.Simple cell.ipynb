{
 "cells": [
  {
   "cell_type": "markdown",
   "id": "19c5abf8",
   "metadata": {},
   "source": [
    "# Extracting electrical features and plotting traces using eFEL and BluePyEfe and creating a simple model"
   ]
  },
  {
   "cell_type": "markdown",
   "id": "5e6e11ef",
   "metadata": {},
   "source": [
    "Goal:\n",
    "  - Learning to use eFEL and BluePyEfe\n",
    "  - Extract efeatures from voltage recordings in order to prepare for optimisation"
   ]
  },
  {
   "cell_type": "markdown",
   "id": "b6bcde87",
   "metadata": {},
   "source": [
    "## Turning ephys data into python object"
   ]
  },
  {
   "cell_type": "code",
   "execution_count": null,
   "id": "473238d7",
   "metadata": {},
   "outputs": [],
   "source": [
    "import pathlib\n",
    "from pprint import pprint\n",
    "import matplotlib.pyplot as plt\n",
    "\n",
    "import bluepyefe\n",
    "import bluepyefe.extract"
   ]
  },
  {
   "cell_type": "markdown",
   "id": "b2cb99b2",
   "metadata": {},
   "source": [
    "Let's read some information about BluePyEfe 2: https://github.com/BlueBrain/BluePyEfe/tree/BPE2/bluepyefe"
   ]
  },
  {
   "cell_type": "markdown",
   "id": "0906fa29",
   "metadata": {},
   "source": [
    "One of the low level class in BluePyEfe is called \"Cell\". It is empty at the start but will become the recipient for the recording's data associated to the cell.\n",
    "\n",
    "In the subdirectory `ephys` are data for four cells. Let's chose one of them and instantiate a cell object for it:"
   ]
  },
  {
   "cell_type": "code",
   "execution_count": null,
   "id": "e51181bb",
   "metadata": {},
   "outputs": [],
   "source": [
    "from bluepyefe.cell import Cell\n",
    "\n",
    "cell_name = \"C060116A6-SR-C1\"\n",
    "cell = Cell(name=cell_name)"
   ]
  },
  {
   "cell_type": "markdown",
   "id": "9ab8a70c",
   "metadata": {},
   "source": [
    "To read a data file, we need to provide the metadata associated in the form of a dictionnary:"
   ]
  },
  {
   "cell_type": "code",
   "execution_count": null,
   "id": "baf4b557",
   "metadata": {},
   "outputs": [],
   "source": [
    "files_metadata = {\n",
    "    \"i_file\": f\"../ephys/{cell_name}/X_IDrest_ch0_386.ibw\",\n",
    "    \"v_file\": f\"../ephys/{cell_name}/X_IDrest_ch1_386.ibw\",\n",
    "    \"i_unit\": \"A\",\n",
    "    \"v_unit\": \"V\",\n",
    "    \"t_unit\": \"s\",\n",
    "    \"dt\": 0.00025,\n",
    "    \"ljp\": 14.\n",
    "}"
   ]
  },
  {
   "cell_type": "markdown",
   "id": "02840df8",
   "metadata": {},
   "source": [
    "The exact fields of this dictionary depend of the metadata already present in your file. Check the reader functions present in bluepyefe/reader.py to see which entries are needed.\n",
    "\n",
    "The units should be the ones in which the recording file is, not the units you want the output to be in. The output units will always be ms, nA, mV.\n",
    "\n",
    "Using this metadata the cell is able to read the data file. The data is now accessible through the \"recordings\" attribute. \"recordings\" is a list that contains as many element as recordings present in the data file:"
   ]
  },
  {
   "cell_type": "code",
   "execution_count": null,
   "id": "0d0abfec",
   "metadata": {},
   "outputs": [],
   "source": [
    "cell.read_recordings(\n",
    "    protocol_data=[files_metadata], \n",
    "    protocol_name=\"IDrest\"\n",
    ")\n",
    "\n",
    "pprint(vars(cell.recordings[0]))"
   ]
  },
  {
   "cell_type": "markdown",
   "id": "e46d3a38",
   "metadata": {},
   "source": [
    "Let's select the first trace and plot it:"
   ]
  },
  {
   "cell_type": "code",
   "execution_count": null,
   "id": "04304efd",
   "metadata": {},
   "outputs": [],
   "source": [
    "recording = cell.recordings[0]\n",
    "recording.plot()"
   ]
  },
  {
   "cell_type": "markdown",
   "id": "82241f34",
   "metadata": {},
   "source": [
    "Since we did not specify a starting time, finishing time, step amplitude and holding current in the metadata, we implicitly ask BluePyEfe to infer them from the current time series.\n",
    "BluePyEfe does so throught two steps:\n",
    "- It tries to guess the shape of the current stimulus based on the name of the protocol. In the present case, IDRest is associated to the eCode \"Step\" which represent a simple current step.\n",
    "- It tried to find the beginning and end of the step \n",
    "To check if the eCode was interpreted correctly, we can compare above, the original current array (in blue) with an artificial one generated from the ecode_params (in orange).\n",
    "\n",
    "If you are unhappy with the results (for example the orange line does match with the actual current), you can set the eCode parameters by hand through the metadata. For a step current, the parameters are :'ton', 'toff', 'tend', 'dt', 'amp', and 'hypamp'. For example, if we want to specify the ton and toff by hand, we would do:\n",
    "\n",
    "    files_metadata = {\n",
    "        \"i_file\": \"../tests/exp_data/B95_Ch0_IDRest_107.ibw\",\n",
    "        \"v_file\": \"../tests/exp_data/B95_Ch3_IDRest_107.ibw\",\n",
    "        \"i_unit\": \"pA\",\n",
    "        \"v_unit\": \"mV\",\n",
    "        \"t_unit\": \"s\",\n",
    "        \"dt\": 0.00025,\n",
    "        \"ljp\": 14.,\n",
    "        \"ton\": 700., \n",
    "        \"toff\": 2700.\n",
    "    }\n"
   ]
  },
  {
   "cell_type": "markdown",
   "id": "1fa34c8a",
   "metadata": {},
   "source": [
    "Now that we have a voltage time series, we can get efeatures from it.\n",
    "\n",
    "The computation of electrical features from voltage series is done by eFEL, let's see what it looks like:\n",
    "https://github.com/BlueBrain/eFEL\n",
    "\n",
    "A list of all the features available can be found in the documentation of the eFEL package https://efel.readthedocs.io/en/latest/eFeatures.html and https://bluebrain.github.io/eFEL/efeature-documentation.pdf. \n",
    "\n",
    "For now, let's make a list with a few features and extract them from all the recordings labelled as \"IDrest\" protocols:"
   ]
  },
  {
   "cell_type": "code",
   "execution_count": null,
   "id": "993c3f36",
   "metadata": {},
   "outputs": [],
   "source": [
    "interesting_efeatures = [\n",
    "    'Spikecount',\n",
    "    'mean_frequency',\n",
    "    'ISI_CV',\n",
    "    'AP1_amp',\n",
    "    'AP_width'\n",
    "]"
   ]
  },
  {
   "cell_type": "code",
   "execution_count": null,
   "id": "913ad9b5",
   "metadata": {},
   "outputs": [],
   "source": [
    "cell.extract_efeatures(\n",
    "    protocol_name='IDrest', \n",
    "    efeatures=interesting_efeatures\n",
    ")\n",
    "\n",
    "pprint(cell.recordings[0].efeatures)\n",
    "recording.plot()"
   ]
  },
  {
   "cell_type": "markdown",
   "id": "7c259f60",
   "metadata": {},
   "source": [
    "Now let's create a model that can reproduce these features !"
   ]
  },
  {
   "cell_type": "markdown",
   "id": "44a7d60d",
   "metadata": {},
   "source": [
    "## Let's create a simple model using BluePyOpt"
   ]
  },
  {
   "cell_type": "markdown",
   "id": "5de04681",
   "metadata": {},
   "source": [
    "Let's have a look at BluePyOpt: https://github.com/BlueBrain/BluePyOpt\n",
    "\n",
    "First a template that will describe the cell has to be defined. A template consists of:\n",
    "* a morphology\n",
    "* model mechanisms\n",
    "* model parameters\n",
    "\n",
    "A morphology can be loaded from a file (SWC or ASC), here it will be a simple cyinrical morphology:"
   ]
  },
  {
   "cell_type": "code",
   "execution_count": null,
   "id": "6d8985f5",
   "metadata": {},
   "outputs": [],
   "source": [
    "import bluepyopt as bpop\n",
    "import bluepyopt.ephys as ephys"
   ]
  },
  {
   "cell_type": "code",
   "execution_count": null,
   "id": "a5d9fc20",
   "metadata": {},
   "outputs": [],
   "source": [
    "morph = ephys.morphologies.NrnFileMorphology('simple.swc')"
   ]
  },
  {
   "cell_type": "markdown",
   "id": "a7ac2d29",
   "metadata": {},
   "source": [
    "By default a Neuron morphology has the following sectionlists: somatic, axonal, apical and basal. Let's create an object that points to the somatic sectionlist. This object will be used later to specify where mechanisms have to be added etc."
   ]
  },
  {
   "cell_type": "code",
   "execution_count": null,
   "id": "83925e1b",
   "metadata": {},
   "outputs": [],
   "source": [
    "soma_loc = ephys.locations.NrnSeclistLocation('somatic', seclist_name='somatic')\n",
    "\n",
    "all_loc = ephys.locations.NrnSeclistLocation(\"all\", seclist_name=\"all\")"
   ]
  },
  {
   "cell_type": "markdown",
   "id": "8666ce37",
   "metadata": {},
   "source": [
    "### Creating a mechanism\n",
    "\n",
    "Now we can add ion channels to this morphology. Let's add a generic potassium and sodium mechanisms to the soma:"
   ]
  },
  {
   "cell_type": "code",
   "execution_count": null,
   "id": "84fb5d46",
   "metadata": {},
   "outputs": [],
   "source": [
    "mechanisms = []\n",
    "\n",
    "for mech_name in [\"SKv3_1\", \"NaTg\"]:\n",
    "\n",
    "    mech = ephys.mechanisms.NrnMODMechanism(\n",
    "        name=f'{mech_name}.somatic',\n",
    "        suffix=mech_name,\n",
    "        locations=[soma_loc]\n",
    "    )\n",
    "\n",
    "    mechanisms.append(mech)\n",
    "\n",
    "mechanisms.append(\n",
    "    ephys.mechanisms.NrnMODMechanism(\n",
    "        name=\"pas\",\n",
    "        suffix=\"pas\",\n",
    "        locations=[all_loc]\n",
    "    )\n",
    ")"
   ]
  },
  {
   "cell_type": "markdown",
   "id": "ac067b90",
   "metadata": {},
   "source": [
    "The 'name' field can be chosen by the user, this name should be unique. The 'suffix' points to the same field in the NMODL file of the channel. 'locations' specifies which sections the mechanism will be added to.\n",
    "\n",
    "### Creating parameters\n",
    "\n",
    "Next we need to specify the parameters of the model. A parameter can be in two states: frozen and not-frozen. When a parameter is frozen it has an exact value, otherwise it only has some bounds but the exact value is not known yet.\n",
    "\n",
    "Let's define first a parameter that sets the capacitance of the soma:"
   ]
  },
  {
   "cell_type": "code",
   "execution_count": null,
   "id": "dd75427f",
   "metadata": {},
   "outputs": [],
   "source": [
    "cm_param = ephys.parameters.NrnSectionParameter(\n",
    "    name='cm',\n",
    "    param_name='cm',\n",
    "    bounds=[0.5, 20.0],\n",
    "    locations=[soma_loc],\n",
    "    frozen=False\n",
    ")"
   ]
  },
  {
   "cell_type": "markdown",
   "id": "025f5c6f",
   "metadata": {},
   "source": [
    "And parameters that represent the maximal conductance of the sodium and potassium channels. These two parameters will be optimised later."
   ]
  },
  {
   "cell_type": "code",
   "execution_count": null,
   "id": "3b188dee",
   "metadata": {},
   "outputs": [],
   "source": [
    "gk_param = ephys.parameters.NrnSectionParameter(                                    \n",
    "    name='gSKv3_1bar_SKv3_1.somatic',\n",
    "    param_name='gSKv3_1bar_SKv3_1',\n",
    "    locations=[soma_loc],\n",
    "    bounds=[0.01, 20.0],\n",
    "    frozen=False,\n",
    "    value_scaler=ephys.parameterscalers.NrnSegmentLinearScaler(),\n",
    ")\n",
    "\n",
    "gna_param = ephys.parameters.NrnSectionParameter(\n",
    "    name='gNaTgbar_NaTg.somatic',\n",
    "    param_name='gNaTgbar_NaTg',\n",
    "    bounds=[0.01, 15.0],\n",
    "        locations=[soma_loc],\n",
    "    frozen=False,\n",
    "    value_scaler=ephys.parameterscalers.NrnSegmentLinearScaler(),\n",
    ")"
   ]
  },
  {
   "cell_type": "markdown",
   "id": "909ac0a4",
   "metadata": {},
   "source": [
    "Add parameters that represents the reversal potentials and passive current:"
   ]
  },
  {
   "cell_type": "code",
   "execution_count": null,
   "id": "92b00c72",
   "metadata": {},
   "outputs": [],
   "source": [
    "g_pas = ephys.parameters.NrnSectionParameter(\n",
    "    name='g_pas',\n",
    "    param_name='g_pas',\n",
    "    value=7e-04,\n",
    "    locations=[soma_loc],\n",
    "    frozen=True\n",
    ")\n",
    "\n",
    "e_pas = ephys.parameters.NrnSectionParameter(\n",
    "    name='e_pas',\n",
    "    param_name='e_pas',\n",
    "    value=-62,\n",
    "    locations=[soma_loc],\n",
    "    frozen=True\n",
    ")\n",
    "\n",
    "ena = ephys.parameters.NrnSectionParameter(\n",
    "    name='ena',\n",
    "    param_name='ena',\n",
    "    value=50,\n",
    "    locations=[soma_loc],\n",
    "    frozen=True\n",
    ")\n",
    "\n",
    "ek = ephys.parameters.NrnSectionParameter(\n",
    "    name='ek',\n",
    "    param_name='ek',\n",
    "    value=-90,\n",
    "    locations=[soma_loc],\n",
    "    frozen=True\n",
    ")"
   ]
  },
  {
   "cell_type": "markdown",
   "id": "90f36c6e",
   "metadata": {},
   "source": [
    "### Creating the template\n",
    "\n",
    "To create the cell template, we pass all these objects to the constructor of the template"
   ]
  },
  {
   "cell_type": "code",
   "execution_count": null,
   "id": "22638c18",
   "metadata": {},
   "outputs": [],
   "source": [
    "cell_model = ephys.models.CellModel(\n",
    "    name=f'model_{cell_name.replace(\"-\", \"_\")}',\n",
    "    morph=morph,\n",
    "    mechs=mechanisms,\n",
    "    params=[cm_param, gk_param, gna_param, g_pas, e_pas, ena, ek]\n",
    ")  "
   ]
  },
  {
   "cell_type": "markdown",
   "id": "7775d311",
   "metadata": {},
   "source": [
    "Now we can print out a description of the cell"
   ]
  },
  {
   "cell_type": "code",
   "execution_count": null,
   "id": "12c4718d",
   "metadata": {},
   "outputs": [],
   "source": [
    "print(cell_model)"
   ]
  },
  {
   "cell_type": "markdown",
   "id": "f5415472",
   "metadata": {},
   "source": [
    "With this cell we can build a cell evaluator.\n",
    "\n",
    "## Setting up a cell evaluator\n",
    "\n",
    "To optimise the parameters of the cell we need to create cell evaluator object. \n",
    "This object will need to know which protocols to inject, which parameters to optimise, etc.\n",
    "\n",
    "### Creating the protocols\n",
    "\n",
    "A protocol consists of a set of stimuli, and a set of responses (i.e. recordings). These responses will later be used to calculate the score of the parameter values.\n",
    "\n",
    "Let's create a protocol that mimics what we had in our ephys data, that is, a square pulses at the center of the soma.\n",
    "\n",
    "We first need to create a location object"
   ]
  },
  {
   "cell_type": "code",
   "execution_count": null,
   "id": "3d7789c6",
   "metadata": {},
   "outputs": [],
   "source": [
    "somatic_loc = ephys.locations.NrnSeclistCompLocation(\n",
    "    name='soma',\n",
    "    seclist_name='somatic',\n",
    "    sec_index=0,\n",
    "    comp_x=0.5\n",
    ")"
   ]
  },
  {
   "cell_type": "markdown",
   "id": "af6bb028",
   "metadata": {},
   "source": [
    "and then the stimuli, recordings and protocols. For each protocol we add a recording and a stimulus in the soma using our BluePyEfe Recording object:"
   ]
  },
  {
   "cell_type": "code",
   "execution_count": null,
   "id": "87d8712c",
   "metadata": {},
   "outputs": [],
   "source": [
    "protocol_name = \"IDrest\"\n",
    "\n",
    "holding_stimulus = ephys.stimuli.NrnSquarePulse(\n",
    "    step_amplitude=recording.hypamp,\n",
    "    step_delay=0,\n",
    "    step_duration=recording.tend,\n",
    "    location=somatic_loc,\n",
    "    total_duration=recording.tend\n",
    ")\n",
    "\n",
    "step_stimulus = ephys.stimuli.NrnSquarePulse(\n",
    "    step_amplitude=recording.amp,\n",
    "    step_delay=recording.ton,\n",
    "    step_duration=recording.toff - recording.ton,\n",
    "    location=somatic_loc,\n",
    "    total_duration=recording.tend\n",
    ")\n",
    "\n",
    "rec = ephys.recordings.CompRecording(\n",
    "    name='%s.soma.v' % protocol_name,\n",
    "    location=somatic_loc,\n",
    "    variable='v'\n",
    ")\n",
    "\n",
    "protocol = ephys.protocols.SweepProtocol(protocol_name, [holding_stimulus, step_stimulus], [rec])"
   ]
  },
  {
   "cell_type": "markdown",
   "id": "e29c46a7",
   "metadata": {},
   "source": [
    "### Running a protocol on a cell\n",
    "\n",
    "Now we're at a stage where we can actually run a protocol on the cell. We first need compile the mechanisms (mod files):"
   ]
  },
  {
   "cell_type": "code",
   "execution_count": null,
   "id": "e5774a9a",
   "metadata": {},
   "outputs": [],
   "source": [
    "!nrnivmodl mechanisms"
   ]
  },
  {
   "cell_type": "markdown",
   "id": "8d6df000",
   "metadata": {},
   "source": [
    "and instantiate a NEURON simulator "
   ]
  },
  {
   "cell_type": "code",
   "execution_count": null,
   "id": "b3077722",
   "metadata": {},
   "outputs": [],
   "source": [
    "sim = ephys.simulators.NrnSimulator()"
   ]
  },
  {
   "cell_type": "markdown",
   "id": "4afa90a4",
   "metadata": {},
   "source": [
    "The run() method of a protocol accepts a cell model, a set of parameter values and a simulator"
   ]
  },
  {
   "cell_type": "code",
   "execution_count": null,
   "id": "70bc35aa",
   "metadata": {},
   "outputs": [],
   "source": [
    "default_params = {\"gSKv3_1bar_SKv3_1.somatic\": 0.1, \"gNaTgbar_NaTg.somatic\": 0.1, \"cm\": 4.5}\n",
    "\n",
    "responses = protocol.run(cell_model=cell_model, param_values=default_params, sim=sim)"
   ]
  },
  {
   "cell_type": "markdown",
   "id": "d0673069",
   "metadata": {},
   "source": [
    "Plotting the response traces is now easy:"
   ]
  },
  {
   "cell_type": "code",
   "execution_count": null,
   "id": "3d0ad5fc",
   "metadata": {},
   "outputs": [],
   "source": [
    "plt.plot(\n",
    "    responses[f'{protocol_name}.soma.v']['time'],\n",
    "    responses[f'{protocol_name}.soma.v']['voltage']\n",
    ")"
   ]
  },
  {
   "cell_type": "markdown",
   "id": "84f9292e",
   "metadata": {},
   "source": [
    "That we have a running model, we need to optimize its parameters in order for it to reproduce the data we have.\n",
    "\n",
    "The first step to do so is to be able to measure how well or bad our model performs with respect to the ephys data."
   ]
  },
  {
   "cell_type": "markdown",
   "id": "8bfae9a1",
   "metadata": {},
   "source": [
    "### Adding targets to our evaluator"
   ]
  },
  {
   "cell_type": "markdown",
   "id": "3f9be1c0",
   "metadata": {},
   "source": [
    "In BluePyOpt, the score of a model is called the `fitness`, it is computed using a fitness calculator that computes how far from the expected electrical features chosen as targets the model is.\n",
    "\n",
    "To define a fitness calculator, we first need to create an object for each target:"
   ]
  },
  {
   "cell_type": "code",
   "execution_count": null,
   "id": "9b995849",
   "metadata": {},
   "outputs": [],
   "source": [
    "objectives = []\n",
    "print(recording.efeatures)\n",
    "for feature_name in interesting_efeatures:\n",
    "    if feature_name in recording.efeatures:\n",
    "\n",
    "        recording_names = {'': 'IDrest.soma.v'}\n",
    "        \n",
    "        feature = ephys.efeatures.eFELFeature(\n",
    "            feature_name,\n",
    "            efel_feature_name=feature_name,\n",
    "            recording_names=recording_names,\n",
    "            stim_start=recording.ton,\n",
    "            stim_end=recording.toff,\n",
    "            exp_mean=recording.efeatures[feature_name],\n",
    "            exp_std=abs(0.1 * recording.efeatures[feature_name]),\n",
    "            threshold=-20\n",
    "        )\n",
    "\n",
    "        objective = ephys.objectives.SingletonObjective(\n",
    "            feature_name,\n",
    "            feature\n",
    "        )\n",
    "        objectives.append(objective)"
   ]
  },
  {
   "cell_type": "markdown",
   "id": "af2faed4",
   "metadata": {},
   "source": [
    "A fitness calculator can then be instantiated from these objectives and attached to an evaluator that contains both the protocol and the objectives for the protocol:"
   ]
  },
  {
   "cell_type": "code",
   "execution_count": null,
   "id": "e39097d2",
   "metadata": {},
   "outputs": [],
   "source": [
    "fitcalc = ephys.objectivescalculators.ObjectivesCalculator(objectives)\n",
    "\n",
    "evaluator = ephys.evaluators.CellEvaluator(\n",
    "    cell_model=cell_model,\n",
    "    param_names=list(default_params.keys()),\n",
    "    fitness_protocols={\"IDrest\": protocol},\n",
    "    fitness_calculator=fitcalc,\n",
    "    sim=sim\n",
    ")\n",
    "\n",
    "print(evaluator)"
   ]
  },
  {
   "cell_type": "markdown",
   "id": "5e7d3c39",
   "metadata": {},
   "source": [
    "Using this evaluator we can compute the features for our models as well as computing how well our default set of parameter is performing:"
   ]
  },
  {
   "cell_type": "code",
   "execution_count": null,
   "id": "72af5707",
   "metadata": {},
   "outputs": [],
   "source": [
    "efeatures = evaluator.evaluate_with_dicts(param_dict=default_params, target='values')\n",
    "print(\"E-features values: \", efeatures)"
   ]
  },
  {
   "cell_type": "code",
   "execution_count": null,
   "id": "3b72b4a2",
   "metadata": {},
   "outputs": [],
   "source": [
    "scores = evaluator.evaluate_with_dicts(param_dict=default_params, target='scores')\n",
    "print(\"E-features scores: \", scores)"
   ]
  },
  {
   "cell_type": "markdown",
   "id": "a4ef5cba",
   "metadata": {},
   "source": [
    "We can express the quality of the model with a single scalar, the fitness, that we will try to minimize:"
   ]
  },
  {
   "cell_type": "code",
   "execution_count": null,
   "id": "65f70d00",
   "metadata": {},
   "outputs": [],
   "source": [
    "print(\"Fitness: \", sum(scores.values()))"
   ]
  },
  {
   "cell_type": "markdown",
   "id": "a1d9b160",
   "metadata": {},
   "source": [
    "## Tuning the parameters using grid search"
   ]
  },
  {
   "cell_type": "markdown",
   "id": "b1d0faa4",
   "metadata": {},
   "source": [
    "The easiest way to tune the parameter is to perform grid search over the parameter space.\n",
    "To do so, we can code a simple minimizer:"
   ]
  },
  {
   "cell_type": "code",
   "execution_count": null,
   "id": "63401354",
   "metadata": {},
   "outputs": [],
   "source": [
    "import numpy\n",
    "\n",
    "best_params = None\n",
    "best_fitness = numpy.inf\n",
    "\n",
    "for gna in numpy.arange(1, 15, 1):\n",
    "    for gk in numpy.arange(0.1, 0.2, 0.01):\n",
    "        for cm in numpy.arange(1.0, 20, 1):\n",
    "            \n",
    "            params = {\"gSKv3_1bar_SKv3_1.somatic\": gk, \"gNaTgbar_NaTg.somatic\": gna, \"cm\": cm}\n",
    "\n",
    "            fitness = sum(evaluator.evaluate_with_dicts(param_dict=params, target='scores').values())\n",
    "\n",
    "            if fitness <best_fitness:\n",
    "                best_fitness = fitness\n",
    "                best_params = params\n",
    "                print(\"New best params ! \", params, f\" (fitness: {best_fitness})\")"
   ]
  },
  {
   "cell_type": "markdown",
   "id": "f3a831d6",
   "metadata": {},
   "source": [
    "And see the results:"
   ]
  },
  {
   "cell_type": "code",
   "execution_count": null,
   "id": "13d065b1",
   "metadata": {},
   "outputs": [],
   "source": [
    "responses = protocol.run(cell_model=cell_model, param_values={'gSKv3_1bar_SKv3_1.somatic': 0.18999999999999995, 'gNaTgbar_NaTg.somatic': 1, 'cm': 19.0}, sim=sim)\n",
    "\n",
    "plt.plot(\n",
    "    responses[f'{protocol_name}.soma.v']['time'],\n",
    "    responses[f'{protocol_name}.soma.v']['voltage']\n",
    ")"
   ]
  },
  {
   "cell_type": "markdown",
   "id": "8da3750b",
   "metadata": {},
   "source": [
    "But it is extremly slow !"
   ]
  },
  {
   "cell_type": "markdown",
   "id": "25c0eece",
   "metadata": {},
   "source": [
    "## Tuning the parameters using an optimizer"
   ]
  },
  {
   "cell_type": "markdown",
   "id": "dc6b8e1a",
   "metadata": {},
   "source": [
    "We can do better using an optimizer, let's try here with a single objective optimizer provided by BluePyOpt.\n",
    "The optimizer will run for 10 generations using 10 individuals per generation:"
   ]
  },
  {
   "cell_type": "code",
   "execution_count": null,
   "id": "524b3338",
   "metadata": {},
   "outputs": [],
   "source": [
    "opt = bpop.deapext.optimisationsCMA.DEAPOptimisationCMA(\n",
    "    evaluator=evaluator,\n",
    "    selector_name=\"single_objective\",\n",
    "    offspring_size=10\n",
    ")\n",
    "\n",
    "final_pop, halloffame, log, hist = opt.run(max_ngen=10, cp_filename='checkpoint.pkl')"
   ]
  },
  {
   "cell_type": "code",
   "execution_count": null,
   "id": "862f7767",
   "metadata": {},
   "outputs": [],
   "source": [
    "responses = protocol.run(\n",
    "    cell_model=cell_model,\n",
    "    param_values=evaluator.param_dict(halloffame[0]),\n",
    "    sim=sim\n",
    ")\n",
    "\n",
    "plt.plot(\n",
    "    responses[f'{protocol_name}.soma.v']['time'],\n",
    "    responses[f'{protocol_name}.soma.v']['voltage']\n",
    ")\n",
    "\n",
    "print(\"Fitness: \", sum(halloffame[0].fitness.values))"
   ]
  },
  {
   "cell_type": "markdown",
   "id": "6a942f7e",
   "metadata": {},
   "source": [
    "We can visualize how the fitness improve with the generations:"
   ]
  },
  {
   "cell_type": "code",
   "execution_count": null,
   "id": "7558f4b5",
   "metadata": {},
   "outputs": [],
   "source": [
    "plt.plot(log.select(\"gen\"), log.select(\"avg\"), label=\"Average fitness\")\n",
    "plt.plot(log.select(\"gen\"), log.select(\"min\"), label=\"Best fitness\")\n",
    "\n",
    "plt.yscale(\"log\")\n",
    "plt.xlabel(\"Generation\")\n",
    "plt.ylabel(\"Fitness\")"
   ]
  }
 ],
 "metadata": {
  "kernelspec": {
   "display_name": "Python 3 (ipykernel)",
   "language": "python",
   "name": "python3"
  },
  "language_info": {
   "codemirror_mode": {
    "name": "ipython",
    "version": 3
   },
   "file_extension": ".py",
   "mimetype": "text/x-python",
   "name": "python",
   "nbconvert_exporter": "python",
   "pygments_lexer": "ipython3",
   "version": "3.9.7"
  }
 },
 "nbformat": 4,
 "nbformat_minor": 5
}
